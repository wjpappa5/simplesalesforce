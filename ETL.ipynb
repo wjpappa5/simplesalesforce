{
 "cells": [
  {
   "cell_type": "code",
   "execution_count": null,
   "metadata": {},
   "outputs": [],
   "source": [
    "pwd"
   ]
  },
  {
   "cell_type": "code",
   "execution_count": null,
   "metadata": {},
   "outputs": [],
   "source": [
    "#!pip install simple_salesforce\n",
    "#!pip install pymysql\n",
    "#!pip install sqlalchemy"
   ]
  },
  {
   "cell_type": "code",
   "execution_count": null,
   "metadata": {},
   "outputs": [],
   "source": [
    "#import json\n",
    "from sqlalchemy import create_engine\n",
    "from datetime import date\n",
    "import pandas as pd\n",
    "import pymysql\n",
    "pymysql.install_as_MySQLdb()"
   ]
  },
  {
   "cell_type": "code",
   "execution_count": null,
   "metadata": {},
   "outputs": [],
   "source": [
    "# import credentials\n",
    "from config import sf_username, sf_password, sf_security_token\n",
    "from config import remote_db_endpoint, remote_db_port\n",
    "from config import remote_db_name, remote_db_user, remote_db_pwd"
   ]
  },
  {
   "cell_type": "code",
   "execution_count": null,
   "metadata": {},
   "outputs": [],
   "source": [
    "#connect to salesforce\n",
    "from simple_salesforce import Salesforce\n",
    "sf = Salesforce(username=sf_username, password=sf_password, security_token=sf_security_token)"
   ]
  },
  {
   "cell_type": "code",
   "execution_count": null,
   "metadata": {},
   "outputs": [],
   "source": [
    "#connect to mysql db\n",
    "engine = create_engine(f\"mysql://{remote_db_user}:{remote_db_pwd}@{remote_db_endpoint}:{remote_db_port}/{remote_db_name}\")\n",
    "conn = engine.connect()"
   ]
  },
  {
   "cell_type": "markdown",
   "metadata": {},
   "source": [
    "## Prepare ETL Data"
   ]
  },
  {
   "cell_type": "markdown",
   "metadata": {},
   "source": [
    "### Course Table"
   ]
  },
  {
   "cell_type": "code",
   "execution_count": null,
   "metadata": {
    "scrolled": false
   },
   "outputs": [],
   "source": [
    "#reads in course table from mysql\n",
    "course_data_df = pd.read_sql(\"SELECT * FROM course\", conn)\n",
    "course_data_df.head(30)"
   ]
  },
  {
   "cell_type": "code",
   "execution_count": null,
   "metadata": {},
   "outputs": [],
   "source": [
    "#rename columns from course table\n",
    "course_data_df.rename(columns={\n",
    "    'CourseCode':'Course_Code__c',\n",
    "    'CourseName':'Course_Name__c',\n",
    "    'CreditHours':'Credit_Hours__c',\n",
    "    'BootCampCourse':'Boot_Camp_Course__c',    \n",
    "}, inplace=True)\n",
    "course_data_df.head()"
   ]
  },
  {
   "cell_type": "code",
   "execution_count": null,
   "metadata": {
    "scrolled": true
   },
   "outputs": [],
   "source": [
    "#Dropping ID_Course\n",
    "course_data_df = course_data_df[['Course_Code__c', 'Course_Name__c', 'Credit_Hours__c', 'Boot_Camp_Course__c']]\n",
    "course_data_df.head()"
   ]
  },
  {
   "cell_type": "code",
   "execution_count": null,
   "metadata": {
    "scrolled": true
   },
   "outputs": [],
   "source": [
    "#convert dataframe to a list of dictionaries\n",
    "course_data_records = course_data_df.to_dict('records')\n",
    "course_data_records"
   ]
  },
  {
   "cell_type": "code",
   "execution_count": null,
   "metadata": {},
   "outputs": [],
   "source": [
    "#deletes course data\n",
    "class_records = sf.query(\"SELECT Id FROM Course__c\")\n",
    "recs_to_delete = [{'Id': r['Id']} for r in class_records['records']]\n",
    "recs_to_delete\n",
    "\n",
    "sf.bulk.Course__c.delete(recs_to_delete)"
   ]
  },
  {
   "cell_type": "code",
   "execution_count": null,
   "metadata": {
    "scrolled": true
   },
   "outputs": [],
   "source": [
    " #creating records for each dic in dic list\n",
    "for rec in course_data_records:\n",
    "    #taking a key out of dictionary putting into new dic format\n",
    "    record = {\n",
    "        'Course_Code__c': rec['Course_Code__c'],\n",
    "        'Course_Name__c': rec['Course_Name__c'],\n",
    "        'Credit_Hours__c': rec['Credit_Hours__c'],\n",
    "        'Boot_Camp_Course__c': rec['Boot_Camp_Course__c'],\n",
    "    } \n",
    "    try: \n",
    "        sf.Course__c.create(record)\n",
    "    except Exception as e:\n",
    "        print(e)"
   ]
  },
  {
   "cell_type": "markdown",
   "metadata": {},
   "source": [
    "### Student Table"
   ]
  },
  {
   "cell_type": "code",
   "execution_count": null,
   "metadata": {
    "scrolled": true
   },
   "outputs": [],
   "source": [
    "#read in student data\n",
    "student_data_df = pd.read_sql(\"SELECT * FROM student\", conn)\n",
    "student_data_df.head(30)"
   ]
  },
  {
   "cell_type": "code",
   "execution_count": null,
   "metadata": {},
   "outputs": [],
   "source": [
    "#rename columns from student table\n",
    "student_data_df.rename(columns={\n",
    "    'StudentID':'Student_ID__c',\n",
    "    'LastName':'Last_Name__c',\n",
    "    'FirstName':'First_Name__c',\n",
    "    'MiddleName':'Middle_Name__c', \n",
    "    'BirthDate':'Birth_Date__c',\n",
    "    'Gender': 'Gender__c',\n",
    "}, inplace=True)\n",
    "\n",
    "#Dropping ID_Student\n",
    "student_data_df = student_data_df[['Student_ID__c', 'Last_Name__c', 'First_Name__c', 'Middle_Name__c', 'Birth_Date__c', 'Gender__c']]\n",
    "student_data_df.head()"
   ]
  },
  {
   "cell_type": "code",
   "execution_count": null,
   "metadata": {},
   "outputs": [],
   "source": [
    "#convert dataframe to a list of dictionaries\n",
    "student_data_records = student_data_df.to_dict('records')\n",
    "student_data_records"
   ]
  },
  {
   "cell_type": "code",
   "execution_count": null,
   "metadata": {},
   "outputs": [],
   "source": [
    "#delets student data\n",
    "student_records = sf.query(\"SELECT Id FROM Student__c\")\n",
    "recs_to_delete = [{'Id': r['Id']} for r in student_records['records']]\n",
    "recs_to_delete\n",
    "\n",
    "sf.bulk.Student__c.delete(recs_to_delete)"
   ]
  },
  {
   "cell_type": "code",
   "execution_count": null,
   "metadata": {
    "scrolled": true
   },
   "outputs": [],
   "source": [
    "#creating student records for each dic in dic list\n",
    "for rec in student_data_records:\n",
    "    #taking a key out of dictionary putting into new dic format\n",
    "    record = {\n",
    "        'Student_ID__c':rec['Student_ID__c'],\n",
    "        'Last_Name__c':rec['Last_Name__c'],\n",
    "        'First_Name__c':rec['First_Name__c'],\n",
    "        'Middle_Name__c':rec['Middle_Name__c'], \n",
    "        'Birth_Date__c':rec['Birth_Date__c'],\n",
    "        'Gender__c': rec['Gender__c'],\n",
    "    }\n",
    "    \n",
    "    try:\n",
    "        sf.Student__c.create(record)\n",
    "    except Exception as e:\n",
    "        print(e)"
   ]
  },
  {
   "cell_type": "markdown",
   "metadata": {},
   "source": [
    "### Staff Table"
   ]
  },
  {
   "cell_type": "code",
   "execution_count": null,
   "metadata": {
    "scrolled": true
   },
   "outputs": [],
   "source": [
    "#read in staff data\n",
    "staff_data_df = pd.read_sql(\"SELECT * FROM staff\", conn)\n",
    "staff_data_df.head(30)"
   ]
  },
  {
   "cell_type": "code",
   "execution_count": null,
   "metadata": {},
   "outputs": [],
   "source": [
    "#rename columns from student table\n",
    "staff_data_df.rename(columns={\n",
    "    'EmployeeID':'Employee_ID__c',\n",
    "    'LastName':'Last_Name__c',\n",
    "    'FirstName':'First_Name__c',\n",
    "    'MiddleName':'Middle_Name__c', \n",
    "    'BirthDate':'Birth_Date__c',\n",
    "}, inplace=True)\n",
    "\n",
    "#Dropping ID_Staff\n",
    "staff_data_df = staff_data_df[['Employee_ID__c', 'Last_Name__c', 'First_Name__c', 'Middle_Name__c', 'Birth_Date__c']]\n",
    "staff_data_df.head()"
   ]
  },
  {
   "cell_type": "code",
   "execution_count": null,
   "metadata": {
    "scrolled": true
   },
   "outputs": [],
   "source": [
    "#convert dataframe to a list of dictionaries\n",
    "staff_data_records = staff_data_df.to_dict('records')\n",
    "staff_data_records"
   ]
  },
  {
   "cell_type": "code",
   "execution_count": null,
   "metadata": {},
   "outputs": [],
   "source": [
    "#deletes staff data\n",
    "staff_records = sf.query(\"SELECT Id FROM Staff__c\")\n",
    "recs_to_delete = [{'Id': r['Id']} for r in staff_records['records']]\n",
    "recs_to_delete\n",
    "\n",
    "sf.bulk.Staff__c.delete(recs_to_delete)"
   ]
  },
  {
   "cell_type": "code",
   "execution_count": null,
   "metadata": {},
   "outputs": [],
   "source": [
    "#creating staff records for each dic in dic list\n",
    "for rec in staff_data_records:\n",
    "    #taking a key out of dictionary putting into new dic format\n",
    "    record = {\n",
    "        'Employee_ID__c':rec['Employee_ID__c'],\n",
    "        'Last_Name__c':rec['Last_Name__c'],\n",
    "        'First_Name__c':rec['First_Name__c'],\n",
    "        'Middle_Name__c':rec['Middle_Name__c'], \n",
    "        'Birth_Date__c':str(rec['Birth_Date__c'])\n",
    "    } \n",
    "    try:\n",
    "        sf.Staff__c.create(record)\n",
    "    except Exception as e:\n",
    "        print(e)"
   ]
  },
  {
   "cell_type": "markdown",
   "metadata": {},
   "source": [
    "## Look up Tables"
   ]
  },
  {
   "cell_type": "markdown",
   "metadata": {},
   "source": [
    "### Link Class to Course Table"
   ]
  },
  {
   "cell_type": "code",
   "execution_count": null,
   "metadata": {},
   "outputs": [],
   "source": [
    "#create course lookup table\n",
    "course_lookup_list = []\n",
    "\n",
    "# The `Name` column in the primary key in Salesforce objects\n",
    "data = sf.query_all_iter(\"SELECT Course_Code__c, Name FROM Course__c\")\n",
    "for row in data:\n",
    "    rec = {\n",
    "        'ID_Course__c': row['Name'], # this is a critical line of code\n",
    "        'Course_Code__c': row['Course_Code__c']\n",
    "    }\n",
    "    course_lookup_list.append(rec)\n",
    "    \n",
    "course_lookup_list"
   ]
  },
  {
   "cell_type": "code",
   "execution_count": null,
   "metadata": {},
   "outputs": [],
   "source": [
    "#convert to dataframe\n",
    "course_lookup_df = pd.DataFrame(course_lookup_list)\n",
    "#course_lookup_df"
   ]
  },
  {
   "cell_type": "code",
   "execution_count": null,
   "metadata": {},
   "outputs": [],
   "source": [
    "# Query the `Class` table from MySQL\n",
    "query = '''\n",
    "    SELECT \n",
    "        co.CourseCode,\n",
    "        cl.*\n",
    "    FROM \n",
    "        class cl\n",
    "        INNER JOIN course co\n",
    "        ON cl.ID_Course = co.ID_Course\n",
    "\n",
    "'''\n",
    "\n",
    "class_data_df = pd.read_sql(query, conn)\n",
    "class_data_df.head()"
   ]
  },
  {
   "cell_type": "code",
   "execution_count": null,
   "metadata": {
    "scrolled": true
   },
   "outputs": [],
   "source": [
    "#rename columns from class table\n",
    "class_data_df.rename(columns={\n",
    "    'ID_Course':'ID_Course__c',\n",
    "    'Section':'Section__c',\n",
    "    'StartDate':'Start_Date__c',\n",
    "    'EndDate':'End_Date__c',\n",
    "    'CourseCode':'Course_Code__c'\n",
    "}, inplace=True)\n",
    "\n",
    "\n",
    "class_data_df = class_data_df[['ID_Course__c','Course_Code__c', 'Section__c', 'Start_Date__c', 'End_Date__c']]\n",
    "class_data_df"
   ]
  },
  {
   "cell_type": "code",
   "execution_count": null,
   "metadata": {},
   "outputs": [],
   "source": [
    "#merge MySQL Class table to salesforce FK lookup\n",
    "class_data_df = pd.merge(class_data_df, course_lookup_df, how='left', on='Course_Code__c')\n",
    "#class_data_df.drop(columns = ['ID_Class','ID_Course','CourseName','CreditHours','BootCampCourse','Course_Code__c'], inplace=True)\n",
    "\n",
    "class_data_df.head()"
   ]
  },
  {
   "cell_type": "code",
   "execution_count": null,
   "metadata": {
    "scrolled": true
   },
   "outputs": [],
   "source": [
    "#convert dataframe to a list of dictionaries\n",
    "class_data_records = class_data_df.to_dict('records')\n",
    "class_data_records"
   ]
  },
  {
   "cell_type": "code",
   "execution_count": null,
   "metadata": {},
   "outputs": [],
   "source": [
    "#delets class data\n",
    "class_records = sf.query(\"SELECT Id FROM Class__c\")\n",
    "recs_to_delete = [{'Id': r['Id']} for r in class_records['records']]\n",
    "recs_to_delete\n",
    "\n",
    "sf.bulk.Class__c.delete(recs_to_delete)"
   ]
  },
  {
   "cell_type": "code",
   "execution_count": null,
   "metadata": {},
   "outputs": [],
   "source": [
    "#creating class records for each dic in dic list\n",
    "#Insert records into salesforce\n",
    "for rec in class_data_records:\n",
    "    #taking a key out of dictionary putting into new dic format\n",
    "    record = {\n",
    "        'ID_Course__c': rec['ID_Course__c_y'],\n",
    "        'Section__c':rec['Section__c'],\n",
    "        'Start_Date__c':str(rec['Start_Date__c']),\n",
    "        'End_Date__c':str(rec['End_Date__c'])\n",
    "    } \n",
    "    try:\n",
    "        sf.Class__c.create(record)\n",
    "    except Exception as e:\n",
    "        print(e)"
   ]
  },
  {
   "cell_type": "markdown",
   "metadata": {},
   "source": [
    "### Link Class Participant to Class and Student Tables"
   ]
  },
  {
   "cell_type": "code",
   "execution_count": null,
   "metadata": {},
   "outputs": [],
   "source": [
    "#create class lookup table \n",
    "class_lookup_list = []\n",
    "\n",
    "# The `Name` column in the primary key in Salesforce objects\n",
    "data = sf.query_all_iter(\"SELECT Section__c, Name FROM Class__c\")\n",
    "for row in data:\n",
    "    rec = {\n",
    "        'ID_Class__c': row['Name'], # this is a critical line of code\n",
    "        'Section__c': row['Section__c']\n",
    "    }\n",
    "    class_lookup_list.append(rec)\n",
    "\n",
    "#convert to dataframe\n",
    "class_lookup_df = pd.DataFrame(class_lookup_list)\n",
    "class_lookup_df"
   ]
  },
  {
   "cell_type": "code",
   "execution_count": null,
   "metadata": {},
   "outputs": [],
   "source": [
    "#create student lookup table\n",
    "student_lookup_list = []\n",
    "\n",
    "# The `Name` column in the primary key in Salesforce objects\n",
    "data = sf.query_all_iter(\"SELECT Student_ID__c, Name FROM Student__c\")\n",
    "for row in data:\n",
    "    rec = {\n",
    "        'ID_Student__c': row['Name'], # this is a critical line of code\n",
    "        'Student_ID__c': row['Student_ID__c']\n",
    "    }\n",
    "    student_lookup_list.append(rec)\n",
    "    \n",
    "#convert to dataframe\n",
    "student_lookup_df = pd.DataFrame(student_lookup_list)\n",
    "student_lookup_df"
   ]
  },
  {
   "cell_type": "code",
   "execution_count": null,
   "metadata": {},
   "outputs": [],
   "source": [
    "# Query the `classparticpant, class, student` tables from MySQL\n",
    "query = '''\n",
    "    SELECT \n",
    "        cp.StartDate,\n",
    "        cp.EndDate,\n",
    "        s.StudentID,\n",
    "        c.Section\n",
    "    FROM classparticipant cp\n",
    "    INNER JOIN student s\n",
    "    ON s.ID_Student = cp.ID_Student\n",
    "    INNER JOIN class c\n",
    "    ON c.ID_Class = cp.ID_Class\n",
    "\n",
    "'''\n",
    "\n",
    "cp_data_df = pd.read_sql(query, conn)\n",
    "#cp_data_df.head()"
   ]
  },
  {
   "cell_type": "code",
   "execution_count": null,
   "metadata": {},
   "outputs": [],
   "source": [
    "#rename columns from classparticipant table\n",
    "cp_data_df.rename(columns={\n",
    "    'StartDate':'Start_Date__c',\n",
    "    'EndDate':'End_Date__c',\n",
    "    'StudentID':'Student_ID__c',\n",
    "    'Section':'Section__c'\n",
    "}, inplace=True)\n",
    "\n",
    "cp_data_df.head()"
   ]
  },
  {
   "cell_type": "code",
   "execution_count": null,
   "metadata": {
    "scrolled": true
   },
   "outputs": [],
   "source": [
    "#merge MySQL cp table to salesforce FK lookup tables\n",
    "#classparticipant and class\n",
    "claspart_data_df = pd.merge(cp_data_df, class_lookup_df, how='left', on='Section__c')\n",
    "\n",
    "#merged cp data with student\n",
    "claspart_data_df = pd.merge(claspart_data_df, student_lookup_df, how='left', on='Student_ID__c')\n",
    "\n",
    "claspart_data_df.head()"
   ]
  },
  {
   "cell_type": "code",
   "execution_count": null,
   "metadata": {},
   "outputs": [],
   "source": [
    "#convert dataframe to a list of dictionaries\n",
    "claspart_data_records = claspart_data_df.to_dict('records')\n",
    "claspart_data_records"
   ]
  },
  {
   "cell_type": "code",
   "execution_count": null,
   "metadata": {},
   "outputs": [],
   "source": [
    "#delets classparticipant data\n",
    "class_records = sf.query(\"SELECT Id FROM Class_Participant__c\")\n",
    "recs_to_delete = [{'Id': r['Id']} for r in class_records['records']]\n",
    "recs_to_delete\n",
    "\n",
    "sf.bulk.Class_Participant__c.delete(recs_to_delete)"
   ]
  },
  {
   "cell_type": "code",
   "execution_count": null,
   "metadata": {},
   "outputs": [],
   "source": [
    "#creating records for each dic in dic list\n",
    "#Insert records into salesforce\n",
    "for rec in claspart_data_records:\n",
    "    #taking a key out of dictionary putting into new dic format\n",
    "    record = {}\n",
    "    record['ID_Class__c'] = rec['ID_Class__c']\n",
    "    record['ID_Student__c'] = rec['ID_Student__c']\n",
    "    if rec['Start_Date__c'] != None:\n",
    "        record['Start_Date__c'] = str(rec['Start_Date__c'])\n",
    "    if rec['End_Date__c'] != None:\n",
    "        record['End_Date__c'] = str(rec['End_Date__c'])\n",
    "    \n",
    "    try:\n",
    "        sf.Class_Participant__c.create(record)\n",
    "    except Exception as e:\n",
    "        print(e)"
   ]
  },
  {
   "cell_type": "markdown",
   "metadata": {},
   "source": [
    "### Link Staff Assignmentt to Class and Staff Tables"
   ]
  },
  {
   "cell_type": "code",
   "execution_count": null,
   "metadata": {},
   "outputs": [],
   "source": [
    "#create staff lookup table\n",
    "staff_lookup_list = []\n",
    "\n",
    "# The `Name` column in the primary key in Salesforce objects\n",
    "# The Salesforce query language is called SOQL \n",
    "data = sf.query_all_iter(\"SELECT Employee_ID__c, Name FROM Staff__c\")\n",
    "for row in data:\n",
    "    rec = {\n",
    "        'ID_Staff__c': row['Name'], # this is a critical line of code\n",
    "        'Employee_ID__c': row['Employee_ID__c']\n",
    "    }\n",
    "    staff_lookup_list.append(rec)\n",
    "    \n",
    "#convert to dataframe\n",
    "staff_lookup_df = pd.DataFrame(staff_lookup_list)\n",
    "staff_lookup_df"
   ]
  },
  {
   "cell_type": "code",
   "execution_count": null,
   "metadata": {},
   "outputs": [],
   "source": [
    "# Query the `staff assignment, class, staff` tables from MySQL\n",
    "query = '''\n",
    "    SELECT \n",
    "        sa.StartDate,\n",
    "        sa.EndDate,\n",
    "        sa.Role,\n",
    "        s.EmployeeID,\n",
    "        c.Section\n",
    "    FROM staffassignment sa\n",
    "    INNER JOIN staff s\n",
    "    ON s.ID_Staff = sa.ID_Staff\n",
    "    INNER JOIN class c\n",
    "    ON c.ID_Class = sa.ID_Class\n",
    "'''\n",
    "\n",
    "sa_data_df = pd.read_sql(query, conn)\n",
    "sa_data_df.head()"
   ]
  },
  {
   "cell_type": "code",
   "execution_count": null,
   "metadata": {},
   "outputs": [],
   "source": [
    "#rename columns from staff assign table\n",
    "sa_data_df.rename(columns={\n",
    "    'StartDate':'Start_Date__c',\n",
    "    'EndDate':'End_Date__c',\n",
    "    'Role':'Role__c',\n",
    "    'EmployeeID':'Employee_ID__c',\n",
    "    'Section':'Section__c'\n",
    "}, inplace=True)\n",
    "\n",
    "sa_data_df.head()"
   ]
  },
  {
   "cell_type": "code",
   "execution_count": null,
   "metadata": {},
   "outputs": [],
   "source": [
    "#merge MySQL staff assign table to salesforce FK lookup tables\n",
    "#staff assignment and class\n",
    "staffass_data_df = pd.merge(sa_data_df, class_lookup_df, how='left', on='Section__c')\n",
    "\n",
    "#merged cp data with student\n",
    "staffass_data_df = pd.merge(staffass_data_df, staff_lookup_df, how='left', on='Employee_ID__c')\n",
    "\n",
    "staffass_data_df.head()"
   ]
  },
  {
   "cell_type": "code",
   "execution_count": null,
   "metadata": {
    "scrolled": true
   },
   "outputs": [],
   "source": [
    "#convert dataframe to a list of dictionaries\n",
    "staffass_data_records = staffass_data_df.to_dict('records')\n",
    "staffass_data_records"
   ]
  },
  {
   "cell_type": "code",
   "execution_count": null,
   "metadata": {},
   "outputs": [],
   "source": [
    "#delets staff assignment data\n",
    "class_records = sf.query(\"SELECT Id FROM Staff_Assignment__c\")\n",
    "recs_to_delete = [{'Id': r['Id']} for r in class_records['records']]\n",
    "recs_to_delete\n",
    "\n",
    "sf.bulk.Staff_Assignment__c.delete(recs_to_delete)"
   ]
  },
  {
   "cell_type": "code",
   "execution_count": null,
   "metadata": {},
   "outputs": [],
   "source": [
    "#creating records for each dic in dic list\n",
    "#Insert records into salesforce\n",
    "for rec in staffass_data_records:\n",
    "    #taking a key out of dictionary putting into new dic format\n",
    "    record = {}\n",
    "    record['ID_Class__c'] = rec['ID_Class__c']\n",
    "    record['ID_Staff__c'] = rec['ID_Staff__c']\n",
    "    record['Role__c'] = rec['Role__c']\n",
    "    if rec['Start_Date__c'] != None:\n",
    "        record['Start_Date__c'] = str(rec['Start_Date__c'])\n",
    "    if rec['End_Date__c'] != None:\n",
    "        record['End_Date__c'] = str(rec['End_Date__c'])\n",
    "    \n",
    "    try:\n",
    "        sf.Staff_Assignment__c.create(record)\n",
    "    except Exception as e:\n",
    "        print(e)"
   ]
  },
  {
   "cell_type": "code",
   "execution_count": null,
   "metadata": {},
   "outputs": [],
   "source": []
  }
 ],
 "metadata": {
  "kernelspec": {
   "display_name": "Python 3",
   "language": "python",
   "name": "python3"
  },
  "language_info": {
   "codemirror_mode": {
    "name": "ipython",
    "version": 3
   },
   "file_extension": ".py",
   "mimetype": "text/x-python",
   "name": "python",
   "nbconvert_exporter": "python",
   "pygments_lexer": "ipython3",
   "version": "3.8.3"
  }
 },
 "nbformat": 4,
 "nbformat_minor": 4
}
